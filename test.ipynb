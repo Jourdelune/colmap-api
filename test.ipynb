{
 "cells": [
  {
   "cell_type": "code",
   "execution_count": null,
   "id": "5bc1ce14",
   "metadata": {},
   "outputs": [],
   "source": [
    "from pathlib import Path\n",
    "\n",
    "from hloc import (\n",
    "    extract_features,\n",
    "    match_dense,\n",
    "    match_features,\n",
    "    pairs_from_retrieval,\n",
    "    reconstruction,\n",
    "    visualization,\n",
    ")\n",
    "from hloc.utils import viz_3d\n",
    "import shutil\n",
    "import time \n"
   ]
  },
  {
   "cell_type": "code",
   "execution_count": null,
   "id": "b3cc927b",
   "metadata": {},
   "outputs": [],
   "source": [
    "\n",
    "images = Path(\"takeout-1-001\")\n",
    "\n",
    "shutil.rmtree(\"outputs/sfm\", ignore_errors=True)\n",
    "outputs = Path(\"outputs/sfm/\")\n",
    "sfm_pairs = outputs / \"pairs-netvlad.txt\"\n",
    "sfm_dir = outputs / \"sfm_superpoint+lightglue\"\n",
    "\n",
    "retrieval_conf = extract_features.confs[\"netvlad\"]\n",
    "feature_conf = extract_features.confs[\"superpoint_aachen\"]\n",
    "matcher_conf = match_features.confs[\"superpoint+lightglue\"]\n",
    "# matcher_conf = match_dense.confs[\"loftr_aachen\"]\n",
    "\n",
    "time1 = time.time()"
   ]
  },
  {
   "cell_type": "code",
   "execution_count": null,
   "id": "a7d840ad",
   "metadata": {},
   "outputs": [],
   "source": [
    "retrieval_path = extract_features.main(retrieval_conf, images, outputs)\n",
    "pairs_from_retrieval.main(retrieval_path, sfm_pairs, num_matched=5)"
   ]
  },
  {
   "cell_type": "code",
   "execution_count": null,
   "id": "83cbc8f4",
   "metadata": {},
   "outputs": [],
   "source": [
    "feature_path = extract_features.main(feature_conf, images, outputs)\n"
   ]
  },
  {
   "cell_type": "code",
   "execution_count": null,
   "id": "cbb4c78e",
   "metadata": {},
   "outputs": [],
   "source": [
    "match_path = match_features.main(\n",
    "    matcher_conf, sfm_pairs, feature_conf[\"output\"], outputs\n",
    ")"
   ]
  },
  {
   "cell_type": "code",
   "execution_count": null,
   "id": "ec986c71",
   "metadata": {},
   "outputs": [],
   "source": [
    "model = reconstruction.main(sfm_dir, images, sfm_pairs, feature_path, match_path)"
   ]
  },
  {
   "cell_type": "code",
   "execution_count": null,
   "id": "561ad811",
   "metadata": {},
   "outputs": [],
   "source": [
    "time2 = time.time()\n",
    "print(f\"Total time taken: {time2 - time1} seconds\")"
   ]
  },
  {
   "cell_type": "code",
   "execution_count": null,
   "id": "d6c8e6de",
   "metadata": {},
   "outputs": [],
   "source": [
    "fig = viz_3d.init_figure()\n",
    "viz_3d.plot_reconstruction(fig, model, color='rgba(255,0,0,0.5)', name=\"mapping\", points_rgb=True)\n",
    "fig.show()"
   ]
  },
  {
   "cell_type": "code",
   "execution_count": null,
   "id": "ff0e8830",
   "metadata": {},
   "outputs": [],
   "source": []
  },
  {
   "cell_type": "markdown",
   "id": "96473a7f",
   "metadata": {},
   "source": [
    "# Test the api"
   ]
  },
  {
   "cell_type": "code",
   "execution_count": null,
   "id": "38e7dce5",
   "metadata": {},
   "outputs": [
    {
     "name": "stdout",
     "output_type": "stream",
     "text": [
      "Sending images...\n"
     ]
    }
   ],
   "source": [
    "import os\n",
    "import time\n",
    "import requests\n",
    "\n",
    "def post_images_to_api(images_dir, api_url=\"http://localhost:8000/sfm\", multiply=1, output_zip_path=\"output.zip\"):\n",
    "    files = []\n",
    "    image_files = [\n",
    "        f\n",
    "        for f in os.listdir(images_dir)\n",
    "        if os.path.isfile(os.path.join(images_dir, f))\n",
    "        and f.lower().endswith((\".jpg\", \".jpeg\", \".png\"))\n",
    "    ]\n",
    "    if not image_files:\n",
    "        print(\"No images found in the directory.\")\n",
    "        return\n",
    "\n",
    "    for i in range(multiply):\n",
    "        for filename in image_files:\n",
    "            filepath = os.path.join(images_dir, filename)\n",
    "            send_name = (\n",
    "                f\"{os.path.splitext(filename)[0]}_copy{i}{os.path.splitext(filename)[1]}\"\n",
    "                if multiply > 1\n",
    "                else filename\n",
    "            )\n",
    "            files.append((\"images\", (send_name, open(filepath, \"rb\"), \"image/jpeg\")))\n",
    "\n",
    "    print(\"Sending images...\")\n",
    "    with requests.post(api_url, files=files, stream=True) as response:\n",
    "        print(f\"Response status code: {response.status_code}\")\n",
    "        if response.status_code == 200:\n",
    "            with open(output_zip_path, \"wb\") as f:\n",
    "                for chunk in response.iter_content(chunk_size=8192):\n",
    "                    if chunk:\n",
    "                        f.write(chunk)\n",
    "            print(f\"Zip file saved to {output_zip_path}\")\n",
    "        else:\n",
    "            print(\"Error in API response:\", response.text)\n",
    "\n",
    "\n",
    "time1 = time.time()\n",
    "post_images_to_api(\n",
    "    \"takeout-1-001\",\n",
    "    api_url=\"http://localhost:8000/sfm\",\n",
    "    multiply=1,\n",
    "    output_zip_path=\"sfm_output.zip\",\n",
    ")\n",
    "print(\"API call completed.\")\n",
    "time2 = time.time()\n",
    "print(f\"API call time taken: {time2 - time1:.2f} seconds\")\n"
   ]
  },
  {
   "cell_type": "code",
   "execution_count": null,
   "id": "37603a77",
   "metadata": {},
   "outputs": [],
   "source": []
  }
 ],
 "metadata": {
  "kernelspec": {
   "display_name": "colmap-api",
   "language": "python",
   "name": "python3"
  },
  "language_info": {
   "codemirror_mode": {
    "name": "ipython",
    "version": 3
   },
   "file_extension": ".py",
   "mimetype": "text/x-python",
   "name": "python",
   "nbconvert_exporter": "python",
   "pygments_lexer": "ipython3",
   "version": "3.10.16"
  }
 },
 "nbformat": 4,
 "nbformat_minor": 5
}
